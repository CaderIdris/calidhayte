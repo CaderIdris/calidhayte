{
 "cells": [
  {
   "cell_type": "code",
   "execution_count": 1,
   "id": "e5dca68f-3fe4-48a3-a473-ac91fd2bae83",
   "metadata": {
    "tags": []
   },
   "outputs": [
    {
     "name": "stderr",
     "output_type": "stream",
     "text": [
      "Using `tqdm.autonotebook.tqdm` in notebook mode. Use `tqdm.tqdm` instead to force console mode (e.g. in jupyter console)\n"
     ]
    }
   ],
   "source": [
    "import numpy as np\n",
    "import pandas as pd\n",
    "from sklearn.pipeline import Pipeline\n",
    "\n",
    "from calidhayte.calibrate import Calibrate\n",
    "\n",
    "import shap\n",
    "import matplotlib.pyplot as plt\n",
    "\n",
    "plt.style.use('bmh')"
   ]
  },
  {
   "cell_type": "code",
   "execution_count": 2,
   "id": "87473012-b321-4df2-b584-01d2aa832bfe",
   "metadata": {
    "tags": []
   },
   "outputs": [
    {
     "name": "stderr",
     "output_type": "stream",
     "text": [
      "The least populated class in y has only 2 members, which is less than n_splits=5.\n"
     ]
    }
   ],
   "source": [
    "np.random.seed(4)\n",
    "x_df = pd.DataFrame()\n",
    "x_df['x'] = pd.Series(np.random.rand(300))\n",
    "x_df['a'] = pd.Series(np.random.rand(300))\n",
    "x_df['b'] = pd.Series(np.random.rand(300))\n",
    "x_df['c'] = pd.Series(np.random.rand(300))\n",
    "coeffs = np.random.randn(4)\n",
    "\n",
    "y_df = pd.DataFrame()\n",
    "modded = x_df * coeffs\n",
    "\n",
    "y_df['x'] = modded.sum(axis=1)\n",
    "y_df['Fold'] = ([0]*60) + ([1]*60) + ([2]*60) + ([3]*60) + ([4]*60)\n",
    "\n",
    "cal = Calibrate(\n",
    "        x_df,\n",
    "        y_df,\n",
    "        target='x'\n",
    "        )\n",
    "cal.linreg()\n",
    "cal.theil_sen()\n",
    "cal.random_forest()\n",
    "\n",
    "models = cal.return_models()"
   ]
  },
  {
   "cell_type": "raw",
   "id": "412c5569-91b1-4a07-b653-576a24335529",
   "metadata": {
    "tags": []
   },
   "source": [
    "def get_shap(x, y, pipeline):\n",
    "    shaps = pd.DataFrame()\n",
    "    for fold in pipeline.keys():\n",
    "        fold_index = y[y.loc[:, 'Fold'] == fold].index\n",
    "        x_data = x.loc[fold_index, :]\n",
    "        explainer = shap.KernelExplainer(\n",
    "            model=pipeline[fold][-1].predict,\n",
    "            data=x_data,\n",
    "            link='identity'\n",
    "        )\n",
    "        shaps = pd.concat(\n",
    "            [\n",
    "                shaps,\n",
    "                pd.DataFrame(\n",
    "                    explainer.shap_values(x_data),\n",
    "                    index=x_data.index,\n",
    "                    columns=x_data.columns\n",
    "                )\n",
    "            ]\n",
    "        )\n",
    "    shaps.loc[y.index, 'Fold'] = y.loc[:, 'Fold']\n",
    "    shaps = shaps.sort_index()\n",
    "\n",
    "    shaps_min = shaps.drop(['Fold'], axis=1).min(axis=None)\n",
    "    shaps_max = shaps.drop(['Fold'], axis=1).max(axis=None)\n",
    "    shaps_range = shaps_max - shaps_min\n",
    "    shaps_lims = (\n",
    "        shaps_min - (shaps_range * 0.1),\n",
    "        shaps_max + (shaps_range * 0.1)\n",
    "    )\n",
    "\n",
    "    num_of_cols = shaps.drop(['Fold'], axis=1).shape[1]\n",
    "\n",
    "    shape_of_scatters = (\n",
    "        int(np.ceil(num_of_cols / 2)),\n",
    "        (min(2, int(num_of_cols)))\n",
    "    )\n",
    "\n",
    "    fig, ax = plt.subplots(\n",
    "        *shape_of_scatters,\n",
    "        figsize=(\n",
    "           4 * shape_of_scatters[0],\n",
    "           4 * shape_of_scatters[1]\n",
    "        ),\n",
    "        dpi=200\n",
    "    )\n",
    "\n",
    "    for col_ind, col in enumerate(shaps.drop(['Fold'], axis=1).columns):\n",
    "        scatter_data = pd.concat(\n",
    "            [\n",
    "                x.loc[:, col].rename('Value'),\n",
    "                shaps.loc[:, col].rename('Shap'),\n",
    "                shaps.loc[:, 'Fold'].rename('Fold')\n",
    "            ],\n",
    "            axis=1\n",
    "        )\n",
    "        x_min = scatter_data.loc[:, 'Value'].min()\n",
    "        x_max = scatter_data.loc[:, 'Value'].max()\n",
    "        x_range = x_max - x_min\n",
    "        x_lims = (x_min - (x_range * 0.1), x_max + (x_range * 0.1))\n",
    "\n",
    "        row_num = int(np.floor(col_ind / 2))\n",
    "        col_num = col_ind % 2\n",
    "        for fold in shaps.loc[:, 'Fold'].unique():\n",
    "            scat_fold = scatter_data[scatter_data.loc[:, 'Fold'] == fold]\n",
    "            ax[row_num, col_num].scatter(\n",
    "                scat_fold['Value'],\n",
    "                scat_fold['Shap'],\n",
    "                c=f'C{int(fold)}',\n",
    "                label=f'Fold {int(fold)}',\n",
    "                marker='.'\n",
    "            )\n",
    "        ax[row_num, col_num].set_title(col)\n",
    "        ax[row_num, col_num].set_xlabel('Value')\n",
    "        ax[row_num, col_num].set_xlim(x_lims)\n",
    "        ax[row_num, col_num].set_ylabel('Shap')\n",
    "        ax[row_num, col_num].set_ylim(shaps_lims)\n",
    "\n",
    "    ax[0, 0].legend(loc='best')\n",
    "    plt.tight_layout()\n",
    "    plt.show()\n",
    "\n",
    "    return shaps\n",
    "\n",
    "\n",
    "for key in models.keys():\n",
    "    shapley = get_shap(x_df, y_df, models[key]['None']['x + a + b + c'])\n"
   ]
  },
  {
   "cell_type": "code",
   "execution_count": 28,
   "id": "df51f32e-9112-46f7-b40d-257e05c64343",
   "metadata": {
    "tags": []
   },
   "outputs": [],
   "source": [
    "class ShapPlots:\n",
    "    \"\"\"\n",
    "    Calculates shap values using the [shap]() package's KernelExplainer and\n",
    "    plots them in a style that matches the rest of the module.\n",
    "    \"\"\"\n",
    "\n",
    "    def __init__(self, x: pd.DataFrame, y: pd.DataFrame, pipeline: Pipeline):\n",
    "        \"\"\"\n",
    "        Parameters\n",
    "        ----------\n",
    "        x : pd.DataFrame\n",
    "            Independent variable(s) that are calibrated against `y`, the independent\n",
    "            variable. Index should match `y`.\n",
    "        y : pd.DataFrame\n",
    "            Dependent variable used to calibrate the independent variables `x`.\n",
    "            Index should match `x`.\n",
    "        pipeline : Pipeline\n",
    "            Prefitted scikit-learn pipeline used to calibrate data. Last step should\n",
    "            be regressor, previous steps preprocess data\n",
    "        \n",
    "        Raises\n",
    "        ------\n",
    "        ValueError\n",
    "            If `x` and `y` index don't match\n",
    "        \"\"\"\n",
    "        if not x.sort_index().index.to_series().eq(\n",
    "            y.sort_index().index.to_series()\n",
    "        ).all():\n",
    "            raise ValueError(\n",
    "                'Index of x and y do not match. Output of Calibrate class '\n",
    "                'in calidhayte should have matching indexes'\n",
    "            )\n",
    "        self.y: pd.DataFrame = y.sort_index()\n",
    "        \"\"\"\n",
    "        Dependent variable used to calibrate the independent variables `x`.\n",
    "        Index should match `x`.\n",
    "        \"\"\"\n",
    "        self.pipeline = pipeline\n",
    "        \"\"\"\n",
    "        Prefitted scikit-learn pipeline used to calibrate data. Last step should\n",
    "        be regressor, previous steps preprocess data\n",
    "        \"\"\"\n",
    "        self.x: pd.DataFrame = x.sort_index()\n",
    "        \"\"\"\n",
    "        Independent variable(s) that are calibrated against `y`, the independent\n",
    "        variable. Index should match `y`.\n",
    "        \"\"\"\n",
    "\n",
    "    def __call__(self):\n",
    "        \"\"\"\n",
    "        \"\"\"\n",
    "        shaps: pd.DataFrame = pd.DataFrame()\n",
    "        for fold in self.pipeline.keys():\n",
    "            fold_index = self.y[self.y.loc[:, 'Fold'] == fold].index\n",
    "            x_data = pd.DataFrame(\n",
    "                self.pipeline[fold][0:-1].transform(\n",
    "                    self.x.loc[fold_index, :]\n",
    "                ),\n",
    "                index=self.x.loc[fold_index, :].index,\n",
    "                columns=self.x.columns\n",
    "            )\n",
    "            explainer = shap.KernelExplainer(\n",
    "                model=self.pipeline[fold][-1].predict,\n",
    "                data=x_data,\n",
    "                link='identity'\n",
    "            )\n",
    "            shaps_fold = pd.DataFrame(\n",
    "                explainer.shap_values(x_data),\n",
    "                index=x_data.index,\n",
    "                columns=x_data.columns\n",
    "            )\n",
    "            shaps_fold['Fold'] = fold\n",
    "            shaps = pd.concat(\n",
    "                [\n",
    "                    shaps,\n",
    "                    shaps_fold\n",
    "                    \n",
    "                ]\n",
    "            )\n",
    "        print(shaps)\n",
    "        \n",
    "        \n",
    "        \n"
   ]
  },
  {
   "cell_type": "markdown",
   "id": "019d3177-01b2-46af-81d2-59eafcf1b70a",
   "metadata": {},
   "source": [
    "[This is a link](https://uhoh)"
   ]
  },
  {
   "cell_type": "code",
   "execution_count": 29,
   "id": "1eb20021-f052-4da3-a329-0c819d440d1b",
   "metadata": {
    "tags": []
   },
   "outputs": [
    {
     "data": {
      "application/vnd.jupyter.widget-view+json": {
       "model_id": "c720f72b746544beb4a086d2171fbc5b",
       "version_major": 2,
       "version_minor": 0
      },
      "text/plain": [
       "  0%|          | 0/60 [00:00<?, ?it/s]"
      ]
     },
     "metadata": {},
     "output_type": "display_data"
    },
    {
     "data": {
      "application/vnd.jupyter.widget-view+json": {
       "model_id": "aac854c155564baa900c312a81e5609f",
       "version_major": 2,
       "version_minor": 0
      },
      "text/plain": [
       "  0%|          | 0/60 [00:00<?, ?it/s]"
      ]
     },
     "metadata": {},
     "output_type": "display_data"
    },
    {
     "data": {
      "application/vnd.jupyter.widget-view+json": {
       "model_id": "fa77df04172e455fa1353125dd126691",
       "version_major": 2,
       "version_minor": 0
      },
      "text/plain": [
       "  0%|          | 0/60 [00:00<?, ?it/s]"
      ]
     },
     "metadata": {},
     "output_type": "display_data"
    },
    {
     "data": {
      "application/vnd.jupyter.widget-view+json": {
       "model_id": "ea223fed865d49e3a2e4550cc6b39fe7",
       "version_major": 2,
       "version_minor": 0
      },
      "text/plain": [
       "  0%|          | 0/60 [00:00<?, ?it/s]"
      ]
     },
     "metadata": {},
     "output_type": "display_data"
    },
    {
     "data": {
      "application/vnd.jupyter.widget-view+json": {
       "model_id": "6dbf0b1a960648afb33e0f366a43ac30",
       "version_major": 2,
       "version_minor": 0
      },
      "text/plain": [
       "  0%|          | 0/60 [00:00<?, ?it/s]"
      ]
     },
     "metadata": {},
     "output_type": "display_data"
    },
    {
     "name": "stdout",
     "output_type": "stream",
     "text": [
      "            x         a         b         c  Fold\n",
      "0   -0.278434 -0.117119 -0.076039  0.012128     0\n",
      "1   -0.015930  0.086103  0.139363  0.203220     0\n",
      "2   -0.281970  0.009281  0.134900  0.095498     0\n",
      "3   -0.120722 -0.231971 -0.015637 -0.081366     0\n",
      "4   -0.110037 -0.190966 -0.056087 -0.191517     0\n",
      "..        ...       ...       ...       ...   ...\n",
      "235  0.244293 -0.131339  0.095616 -0.204153     3\n",
      "236  0.176266 -0.154836 -0.124654  0.120692     3\n",
      "237  0.082595 -0.145298  0.180265 -0.229416     3\n",
      "238  0.295627  0.252997 -0.003423  0.111409     3\n",
      "239 -0.202004  0.183220  0.185652  0.183143     3\n",
      "\n",
      "[300 rows x 5 columns]\n"
     ]
    }
   ],
   "source": [
    "for key in models.keys():\n",
    "    shapley = ShapPlots(x_df, y_df, models[key]['None']['x + a + b + c'])\n",
    "    shapley()\n",
    "    break"
   ]
  },
  {
   "cell_type": "code",
   "execution_count": null,
   "id": "10252ce2-a21e-4ec9-88cb-356bd2ca3295",
   "metadata": {},
   "outputs": [],
   "source": []
  }
 ],
 "metadata": {
  "kernelspec": {
   "display_name": "Python 3 (ipykernel)",
   "language": "python",
   "name": "python3"
  },
  "language_info": {
   "codemirror_mode": {
    "name": "ipython",
    "version": 3
   },
   "file_extension": ".py",
   "mimetype": "text/x-python",
   "name": "python",
   "nbconvert_exporter": "python",
   "pygments_lexer": "ipython3",
   "version": "3.11.5"
  }
 },
 "nbformat": 4,
 "nbformat_minor": 5
}
